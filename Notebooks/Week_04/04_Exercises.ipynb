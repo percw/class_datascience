{
 "cells": [
  {
   "cell_type": "markdown",
   "id": "b2386e79-24ac-4c7a-a50f-8f3e635620d1",
   "metadata": {},
   "source": [
    "# Statistics and Data Science: Exercises library"
   ]
  },
  {
   "cell_type": "markdown",
   "id": "fb4f6003-3339-4849-9606-cb0aba509010",
   "metadata": {},
   "source": [
    "## Data normalization with Euclidean norm\n",
    "\n",
    "A very common operation is to transform you data by normalization. Imagine you have a list of data points $x=$`[21.4,45.7,38.5,76.4,61.9,43.4,52.6,27.2]` and you want to normalize your data using the [Euclidean norm](https://en.wikipedia.org/wiki/Norm_(mathematics)#Euclidean_norm), i.e., convert the data between 0 and 1 with the following operation:\n",
    "\n",
    "$\\hat{x}_{i} = \\frac{x_{i}}{||x||}$\n",
    "\n",
    "where: $||x||=\\sqrt{x_1^2+...+x_n^2}$\n",
    "\n",
    "Normalization is common (necessary) when you deal with several variables that have very different scales.\n",
    "\n",
    "- Using list comprehension, create a new list with normalized $x$ using the Euclidean norm. "
   ]
  },
  {
   "cell_type": "code",
   "execution_count": 1,
   "id": "b2643148-fd51-4a11-b397-ba37a5b3a980",
   "metadata": {},
   "outputs": [
    {
     "name": "stdout",
     "output_type": "stream",
     "text": [
      "[0.15, 0.33, 0.28, 0.55, 0.45, 0.31, 0.38, 0.2]\n",
      "We can see that the original list is still intact: [21.4, 45.7, 38.5, 76.4, 61.9, 43.4, 52.6, 27.2]\n"
     ]
    }
   ],
   "source": [
    "import numpy as np\n",
    "x = [21.4, 45.7, 38.5, 76.4, 61.9, 43.4, 52.6, 27.2]\n",
    "\n",
    "def euc_sum(l):\n",
    "    return np.sqrt(np.sum(np.square(l)))\n",
    "\n",
    "euc_norm = [np.round(item/euc_sum(x),2) for item in x]\n",
    "\n",
    "print(euc_norm)\n",
    "print(f'We can see that the original list is still intact: {x}')\n"
   ]
  },
  {
   "cell_type": "markdown",
   "id": "e842b7de-175d-4284-938f-9721098b00ac",
   "metadata": {},
   "source": [
    "## Data cleaning with comprehension\n",
    "\n",
    "Suppose we have the following list: $x=$`[21.4, 'NaN', 45.7,38.5,76.4,61.9, 'NaN', 43.4,52.6,27.2]`. Unfortunately we have some `'NaN'` values (Not a Number).\n",
    "\n",
    "- Clean your list, dropping `'NaN'` values, using list comprehension"
   ]
  },
  {
   "cell_type": "code",
   "execution_count": 2,
   "id": "37c8e867-b27f-4181-a48a-b43c6d1fd767",
   "metadata": {},
   "outputs": [
    {
     "name": "stdout",
     "output_type": "stream",
     "text": [
      "[21.4, 45.7, 38.5, 76.4, 61.9, 43.4, 52.6, 27.2] 4.696846008300781e-05\n",
      "[21.4, 45.7, 38.5, 76.4, 61.9, 43.4, 52.6, 27.2] 3.814697265625e-05\n"
     ]
    }
   ],
   "source": [
    "import time\n",
    "\n",
    "x = [21.4, 'NaN', 45.7, 38.5, 76.4, 61.9, 'NaN', 43.4, 52.6, 27.2]\n",
    "\n",
    "# One way of doing it with lambda\n",
    "arr = np.array(range(5000))\n",
    "start_lambda = time.time()\n",
    "x_filtered = list(filter(lambda a: a != 'NaN', x))\n",
    "stop_lambda = time.time()\n",
    "result_lambda = stop_lambda - start_lambda\n",
    "print(x_filtered, result_lambda)\n",
    "\n",
    "# Another way of doing it with comprehension\n",
    "start_compr = time.time()\n",
    "x_cleaned = [item for item in x if item != 'NaN']\n",
    "stop_compr = time.time()\n",
    "result_compr = stop_compr - start_compr\n",
    "print(x_cleaned, result_compr)\n",
    "\n",
    "# TODO: Run the same operation 100 times, and compare the different mean time per function.\n"
   ]
  },
  {
   "cell_type": "markdown",
   "id": "1546723c-1373-4a6d-9501-350fab9c9c65",
   "metadata": {},
   "source": [
    "## Data manipulation using dictionary comprehension\n",
    "\n",
    "Comprehension is not only for list, dictionary too! Suppose you have the following dictionary, with the grades of some students on a 0-100 scale:\n",
    "\n",
    "`{'Adam': 72, 'Elena': 91, 'Xiang': 87, 'Julie': 81, 'Takafumi': 79}`\n",
    "\n",
    "- Use dictionary comprehension to convert the grade from the 0-100 scale to the Swiss 0-6 scale.\n",
    "- Use dictionary comprehension to round to the nearest 0.25 (for instance 4.2 should be converted to 4.25). \n",
    "\n",
    "Tips: you can use the `round()` function"
   ]
  },
  {
   "cell_type": "code",
   "execution_count": 3,
   "id": "7abf70d8-6d01-4cdc-9b00-1e2cb2303b73",
   "metadata": {},
   "outputs": [
    {
     "name": "stdout",
     "output_type": "stream",
     "text": [
      "{'Adam': 4.25, 'Elena': 5.5, 'Xiang': 5.25, 'Julie': 4.75, 'Takafumi': 4.75}\n"
     ]
    }
   ],
   "source": [
    "import numpy as np\n",
    "grades = {'Adam': 72, 'Elena': 91, 'Xiang': 87, 'Julie': 81, 'Takafumi': 79}\n",
    "\n",
    "grades_adjusted2 = {key:round(value*6/100, 2) for (key, value) in grades.items()}\n",
    "grades_adjusted = {key:round(value*24/100)/4 for (key, value) in grades.items()}\n",
    "\n",
    "print(grades_adjusted)\n"
   ]
  },
  {
   "cell_type": "markdown",
   "id": "33090f54-2bba-4337-88b1-ec13d85252b4",
   "metadata": {},
   "source": [
    "## Green Bonds"
   ]
  },
  {
   "cell_type": "markdown",
   "id": "b3d9d8f4-be41-4f26-b9ee-bdcde7698ffa",
   "metadata": {},
   "source": [
    "You have a list of green bonds identifiers: \n",
    "`gb_ID = ['CH843556=S', 'CH843556=', 'CH868037=', 'CH6YT=RR', 'CH30YT=RR', 'CH975519=', 'CH1580323=', 'CH1580323=S', 'CH2452496=S']`\n",
    "\n",
    "- Create a new list with the elements of `gb_ID` but removing the `'='` sign and what follows. For instance 'CH843556=S' should be CH843556\n",
    "- Create a new list selecting the elements of `gb_ID` with nothing after the `'='` sign, i.e. we disregard elements such as 'CH843556=S' \n",
    "\n",
    "Hints: \n",
    "- You can use list comprehension inside another list comprehension.\n",
    "- For the second question, you could use Regular Expressions [RegEx](https://docs.python.org/3/library/re.html). See also this [tutorial](https://www.w3schools.com/python/python_regex.asp)"
   ]
  },
  {
   "cell_type": "code",
   "execution_count": 4,
   "id": "d6f7b2f9-409a-4019-bb92-f0a61394907d",
   "metadata": {},
   "outputs": [
    {
     "name": "stdout",
     "output_type": "stream",
     "text": [
      "A list removed of the  \"=\" and other tailing characters: ['CH843556', 'CH843556', 'CH868037', 'CH6YT', 'CH30YT', 'CH975519', 'CH1580323', 'CH1580323', 'CH2452496']\n",
      "A list cleansed of strings with characters after \"=\": ['CH843556=', 'CH868037=', 'CH975519=', 'CH1580323=']\n"
     ]
    }
   ],
   "source": [
    "gb_ID = ['CH843556=S', 'CH843556=', 'CH868037=', 'CH6YT=RR', 'CH30YT=RR', 'CH975519=', 'CH1580323=', 'CH1580323=S', 'CH2452496=S']\n",
    "\n",
    "gb_ID_deep_cleansed = [item[0:item.find('=')] for item in gb_ID]\n",
    "gb_ID_cleansed = [item for item in gb_ID if len(item) == item.find('=')+1]\n",
    "\n",
    "print(f'A list removed of the  \"=\" and other tailing characters: {gb_ID_deep_cleansed}')\n",
    "print(f'A list cleansed of strings with characters after \"=\": {gb_ID_cleansed}')\n"
   ]
  },
  {
   "cell_type": "markdown",
   "id": "6eca1b60-fc80-4ad3-98f4-d0860db63e06",
   "metadata": {},
   "source": [
    "## Optimizing recursive function\n",
    "\n",
    "During the lecture, we have defined a function to calculate Fibonacci numbers: \n",
    "\n",
    "$F(0)=0$\n",
    "\n",
    "$F(1)=1$\n",
    "\n",
    "$F(n)=F(n-1)+F(n-2)$\n",
    "\n",
    "However, our function was not efficient since we needed to repeat operations. For example, to compute $F(5)$, we needed $F(4)$ and $F(3)$, but to know $F(4)$ we needed to compute $F(3)$ and $F(2)$, and so on. Since Fibonacci numbers were not stored in memory, the function calculated many identical subproblems over and over again.\n",
    "\n",
    "- Design a function that calculate Fibonacci numbers and solves the repetition issue.\n",
    "- Create a list of the first 12 Fibonacci numbers.\n",
    "\n",
    "Hint: you can use a dictionary"
   ]
  },
  {
   "cell_type": "code",
   "execution_count": 5,
   "id": "fa47241c-2f9b-45c7-ac05-d3b78e323ef8",
   "metadata": {},
   "outputs": [
    {
     "name": "stdout",
     "output_type": "stream",
     "text": [
      "[0, 1, 1, 2, 3, 5, 8, 13, 21, 34, 55, 89] 3.218650817871094e-05\n"
     ]
    }
   ],
   "source": [
    "import time\n",
    "\n",
    "fib_num = []\n",
    "\n",
    "def fib(n):\n",
    "    if len(fib_num) == n:\n",
    "        return fib_num\n",
    "    elif len(fib_num) == 0:\n",
    "        fib_num.append(0)\n",
    "        return fib(n)\n",
    "    elif len(fib_num) == 1:\n",
    "        fib_num.append(1)\n",
    "        return fib(n)\n",
    "    else:\n",
    "        last_value = fib_num[-1]\n",
    "        second_last_value = fib_num[-2]\n",
    "        fib_num.append(last_value+second_last_value)\n",
    "        return fib(n)\n",
    "\n",
    "start_fib = time.time()\n",
    "fib = fib(12)\n",
    "stop_fib = time.time()\n",
    "result_fib = stop_fib - start_fib\n",
    "print(fib, result_fib)\n"
   ]
  },
  {
   "cell_type": "markdown",
   "id": "3100ec0b-065c-4076-b493-0206243fb6a2",
   "metadata": {},
   "source": [
    "## Book information\n",
    "\n",
    "We have some information about two books:\n",
    "\n",
    "`(\n",
    "Title = 'Sapiens: A Brief History of Humankind', \n",
    "Author = 'Yuval Noah Harari',\n",
    "Year = 2011,\n",
    "Language = 'Hebrew',\n",
    "ISBN = '978-0062316097')`\n",
    "\n",
    "`(\n",
    "Title = 'Les Racines du ciel',\n",
    "Author = 'Romain Gary',\n",
    "Year = 1956,\n",
    "Publisher = 'Gallimard'\n",
    ")`\n",
    "\n",
    "As you can see, the information we have differs.\n",
    "\n",
    "- Write a function that prints for each key: 'The (key) is (value).'. The key should be in lower cases, except the ISBN number.\n",
    "- Call your function with our two books.\n",
    "\n",
    "For instance, the output for the second book should look like this:\n",
    "\n",
    "The title is Les Racines du ciel.\n",
    "The author is Romain Gary.\n",
    "The year is 1956.\n",
    "The publisher is Gallimard.\n",
    "\n",
    "Hint: Try to use arbitrary keyword argument `**kwarg` and the format string method"
   ]
  },
  {
   "cell_type": "code",
   "execution_count": 6,
   "id": "97afc217-2b11-4bbb-840a-5f4c9577d193",
   "metadata": {},
   "outputs": [
    {
     "name": "stdout",
     "output_type": "stream",
     "text": [
      "The title is Sapiens: A Brief History of Humankind. The author is Yuval Noah Harari. The year is 2011. The language is Hebrew. The ISBN is 978-0062316097. \n",
      "The title is Les Racines du ciel. The author is Romain Gary. The year is 1956. The publisher is Gallimard. \n"
     ]
    }
   ],
   "source": [
    "book_dict_sapiens = {\n",
    "    'Title': 'Sapiens: A Brief History of Humankind',\n",
    "    'Author': 'Yuval Noah Harari',\n",
    "    'Year': 2011,\n",
    "    'Language': 'Hebrew',\n",
    "    'ISBN': '978-0062316097',\n",
    "}\n",
    "\n",
    "book_dict_ciel = {\n",
    "    'Title': 'Les Racines du ciel',\n",
    "    'Author': 'Romain Gary',\n",
    "    'Year': 1956,\n",
    "    'Publisher': 'Gallimard'\n",
    "}\n",
    "\n",
    "\n",
    "def print_book(**books):\n",
    "    result = ''\n",
    "    for key, value in books.items():\n",
    "        if key == 'ISBN':\n",
    "            result += f'The {key} is {value}. '\n",
    "        else:\n",
    "            result += f'The {key.lower()} is {value}. '\n",
    "    return result\n",
    "\n",
    "book_prettified_sapiens = print_book(**book_dict_sapiens)\n",
    "book_prettified_ciel = print_book(**book_dict_ciel)\n",
    "\n",
    "print(book_prettified_sapiens)\n",
    "print(book_prettified_ciel)\n"
   ]
  },
  {
   "cell_type": "code",
   "execution_count": null,
   "id": "e7550fb1",
   "metadata": {},
   "outputs": [],
   "source": []
  }
 ],
 "metadata": {
  "kernelspec": {
   "display_name": "Python 3 (ipykernel)",
   "language": "python",
   "name": "python3"
  },
  "language_info": {
   "codemirror_mode": {
    "name": "ipython",
    "version": 3
   },
   "file_extension": ".py",
   "mimetype": "text/x-python",
   "name": "python",
   "nbconvert_exporter": "python",
   "pygments_lexer": "ipython3",
   "version": "3.9.13"
  }
 },
 "nbformat": 4,
 "nbformat_minor": 5
}
