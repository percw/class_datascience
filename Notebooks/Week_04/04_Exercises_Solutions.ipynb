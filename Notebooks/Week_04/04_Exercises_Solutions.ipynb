{
 "cells": [
  {
   "cell_type": "markdown",
   "id": "b2386e79-24ac-4c7a-a50f-8f3e635620d1",
   "metadata": {},
   "source": [
    "# Statistics and Data Science: Exercises library"
   ]
  },
  {
   "cell_type": "markdown",
   "id": "fb4f6003-3339-4849-9606-cb0aba509010",
   "metadata": {},
   "source": [
    "## Data normalization with Euclidean norm\n",
    "\n",
    "A very common operation is to transform you data by normalization. Imagine you have a list of data points $x=$`[21.4,45.7,38.5,76.4,61.9,43.4,52.6,27.2]` and you want to normalize your data using the [Euclidean norm](https://en.wikipedia.org/wiki/Norm_(mathematics)#Euclidean_norm), i.e., convert the data between 0 and 1 with the following operation:\n",
    "\n",
    "$\\hat{x}_{i} = \\frac{x_{i}}{||x||}$\n",
    "\n",
    "where: $||x||=\\sqrt{x_1^2+...+x_n^2}$\n",
    "\n",
    "Normalization is common (necessary) when you deal with several variables that have very different scales.\n",
    "\n",
    "- Using list comprehension, create a new list with normalized $x$ using the Euclidean norm. "
   ]
  },
  {
   "cell_type": "code",
   "execution_count": 5,
   "id": "fe044d08-40f4-429c-8fa9-3fc3e8966b8b",
   "metadata": {},
   "outputs": [
    {
     "name": "stdout",
     "output_type": "stream",
     "text": [
      "[0.15489594360747555, 0.33078245901222586, 0.27866793592933686, 0.5529929949350997, 0.44804013594872605, 0.3141347641385252, 0.3807255436333278, 0.19687708720202501]\n"
     ]
    }
   ],
   "source": [
    "x = [21.4,45.7,38.5,76.4,61.9,43.4,52.6,27.2]\n",
    "\n",
    "# We first compute the square of each element using comprehension\n",
    "x_square = [i**2 for i in x]\n",
    "\n",
    "# Then we compute the Euclidean norm\n",
    "x_norm = (sum(x_square))**(1/2)\n",
    "\n",
    "# Finally we normalize our list\n",
    "x_hat = [i/x_norm for i in x]\n",
    "\n",
    "print(x_hat)"
   ]
  },
  {
   "cell_type": "markdown",
   "id": "e842b7de-175d-4284-938f-9721098b00ac",
   "metadata": {},
   "source": [
    "## Data cleaning with comprehension\n",
    "\n",
    "Suppose we have the following list: $x=$`[21.4, 'NaN', 45.7,38.5,76.4,61.9, 'NaN', 43.4,52.6,27.2]`. Unfortunately we have some `'NaN'` values (Not a Number).\n",
    "\n",
    "- Clean your list, dropping `'NaN'` values, using list comprehension"
   ]
  },
  {
   "cell_type": "code",
   "execution_count": 7,
   "id": "bf7fe480-99f4-43fa-818c-0188e0ea431a",
   "metadata": {},
   "outputs": [
    {
     "name": "stdout",
     "output_type": "stream",
     "text": [
      "[21.4, 45.7, 38.5, 76.4, 61.9, 43.4, 52.6, 27.2]\n"
     ]
    }
   ],
   "source": [
    "x=[21.4, 'NaN', 45.7,38.5,76.4,61.9, 'NaN', 43.4,52.6,27.2]\n",
    "\n",
    "x_clean = [i for i in x if i != 'NaN']\n",
    "\n",
    "print(x_clean)"
   ]
  },
  {
   "cell_type": "markdown",
   "id": "1546723c-1373-4a6d-9501-350fab9c9c65",
   "metadata": {},
   "source": [
    "## Data manipulation using dictionary comprehension\n",
    "\n",
    "Comprehension is not only for list, dictionary too! Suppose you have the following dictionary, with the grades of some students on a 0-100 scale:\n",
    "\n",
    "`{'Adam': 72, 'Elena': 91, 'Xiang': 87, 'Julie': 81, 'Takafumi': 79}`\n",
    "\n",
    "- Use dictionary comprehension to convert the grade from the 0-100 scale to the Swiss 0-6 scale.\n",
    "- Use dictionary comprehension to round to the nearest 0.25 (for instance 4.2 should be converted to 4.25). \n",
    "\n",
    "Tips: you can use the `round()` function"
   ]
  },
  {
   "cell_type": "code",
   "execution_count": 17,
   "id": "fa930178-2e68-4a3f-9fbf-b7a13f439b0d",
   "metadata": {},
   "outputs": [
    {
     "name": "stdout",
     "output_type": "stream",
     "text": [
      "{'Adam': 4.32, 'Elena': 5.46, 'Xiang': 5.22, 'Julie': 4.86, 'Takafumi': 4.74}\n",
      "{'Adam': 4.25, 'Elena': 5.5, 'Xiang': 5.25, 'Julie': 4.75, 'Takafumi': 4.75}\n"
     ]
    }
   ],
   "source": [
    "grade_100 = {'Adam': 72, 'Elena': 91, 'Xiang': 87, 'Julie': 81, 'Takafumi': 79}\n",
    "\n",
    "# We convert the grade dividing the value by 100 and multiplying by 6\n",
    "grade_6 = {key: val*6/100 for key,val in grade_100.items()}\n",
    "\n",
    "# We round the grade\n",
    "grade_6_rounded = {key: round(val*4)/4 for key,val in grade_6.items()}\n",
    "\n",
    "print(grade_6)\n",
    "print(grade_6_rounded)"
   ]
  },
  {
   "cell_type": "markdown",
   "id": "33090f54-2bba-4337-88b1-ec13d85252b4",
   "metadata": {},
   "source": [
    "## Green Bonds"
   ]
  },
  {
   "cell_type": "markdown",
   "id": "b3d9d8f4-be41-4f26-b9ee-bdcde7698ffa",
   "metadata": {},
   "source": [
    "You have a list of green bonds identifiers: \n",
    "`gb_ID = ['CH843556=S', 'CH843556=', 'CH868037=', 'CH6YT=RR', 'CH30YT=RR', 'CH975519=', 'CH1580323=', 'CH1580323=S', 'CH2452496=S']`\n",
    "\n",
    "1. Create a new list with the elements of `gb_ID` but removing the `'='` sign and what follows. For instance 'CH843556=S' should be CH843556\n",
    "2. Create a new list selecting the elements of `gb_ID` with nothing after the `'='` sign, i.e. we disregard elements such as 'CH843556=S' \n",
    "\n",
    "Hints: \n",
    "- You can use list comprehension inside another list comprehension.\n",
    "- For the second question, you could use Regular Expressions [RegEx](https://docs.python.org/3/library/re.html). See also this [tutorial](https://www.w3schools.com/python/python_regex.asp)"
   ]
  },
  {
   "cell_type": "markdown",
   "id": "8d52feaf-16ca-41df-9110-cc5b73555081",
   "metadata": {},
   "source": [
    "### Question 1"
   ]
  },
  {
   "cell_type": "code",
   "execution_count": 9,
   "id": "0428c797-d9e8-4186-9614-156bd8cfa8aa",
   "metadata": {},
   "outputs": [
    {
     "name": "stdout",
     "output_type": "stream",
     "text": [
      "['CH843556', 'CH843556', 'CH868037', 'CH6YT', 'CH30YT', 'CH975519', 'CH1580323', 'CH1580323', 'CH2452496']\n"
     ]
    }
   ],
   "source": [
    "gb_ID = ['CH843556=S', 'CH843556=', 'CH868037=', 'CH6YT=RR', 'CH30YT=RR', 'CH975519=', 'CH1580323=', 'CH1580323=S', 'CH2452496=S']\n",
    "\n",
    "# We split each element of our list at the '=' character, and only keep the left part, indexed by 0:\n",
    "gb_clean = [i.split('=')[0] for i in gb_ID]\n",
    "\n",
    "print(gb_clean)"
   ]
  },
  {
   "cell_type": "markdown",
   "id": "892aa16e-5e09-4ff7-94af-15a328aed6c2",
   "metadata": {},
   "source": [
    "### Question 2\n",
    "\n",
    "We'll see two methods:\n",
    "- a list comprehension using string indexing\n",
    "- a list comprehension using RegEx"
   ]
  },
  {
   "cell_type": "code",
   "execution_count": 11,
   "id": "8942484e-4d3c-4993-8020-5c9293f1478a",
   "metadata": {},
   "outputs": [
    {
     "name": "stdout",
     "output_type": "stream",
     "text": [
      "['CH843556=', 'CH868037=', 'CH975519=', 'CH1580323=']\n"
     ]
    }
   ],
   "source": [
    "# We use the fact that the last character is indexed by '-1'\n",
    "gb_clean_2 = [i for i in gb_ID if i[-1]=='=']\n",
    "\n",
    "print(gb_clean_2)"
   ]
  },
  {
   "cell_type": "code",
   "execution_count": 12,
   "id": "e0e6a5cd-0226-46d0-9705-d3d5c2a1ccf4",
   "metadata": {},
   "outputs": [
    {
     "name": "stdout",
     "output_type": "stream",
     "text": [
      "['CH843556=', 'CH868037=', 'CH975519=', 'CH1580323=']\n"
     ]
    }
   ],
   "source": [
    "import re\n",
    "\n",
    "# The idea is the same as before: we check if the last character is '='\n",
    "# '$' means the last character\n",
    "gb_clean_2 = [i for i in gb_ID if bool(re.search('=$',i))]\n",
    "\n",
    "print(gb_clean_2)"
   ]
  },
  {
   "cell_type": "markdown",
   "id": "6eca1b60-fc80-4ad3-98f4-d0860db63e06",
   "metadata": {},
   "source": [
    "## Optimizing recursive function\n",
    "\n",
    "During the lecture, we have defined a function to calculate Fibonacci numbers: \n",
    "\n",
    "$F(0)=0$\n",
    "\n",
    "$F(1)=1$\n",
    "\n",
    "$F(n)=F(n-1)+F(n-2)$\n",
    "\n",
    "However, our function was not efficient since we needed to repeat operations. For example, to compute $F(5)$, we needed $F(4)$ and $F(3)$, but to know $F(4)$ we needed to compute $F(3)$ and $F(2)$, and so on. Since Fibonacci numbers were not stored in memory, the function calculated many identical subproblems over and over again.\n",
    "\n",
    "- Design a function that calculate Fibonacci numbers and solves the repetition issue.\n",
    "- Create a list of the first 12 Fibonacci numbers.\n",
    "\n",
    "Hint: you can use a dictionary"
   ]
  },
  {
   "cell_type": "code",
   "execution_count": 19,
   "id": "8f018f6e-8d77-4af2-97e7-3808b1025820",
   "metadata": {},
   "outputs": [
    {
     "data": {
      "text/plain": [
       "[0, 1, 1, 2, 3, 5, 8, 13, 21, 34, 55, 89]"
      ]
     },
     "execution_count": 19,
     "metadata": {},
     "output_type": "execute_result"
    }
   ],
   "source": [
    "fibonacci_number = {0: 0, 1: 1}  #Initial values\n",
    "\n",
    "def fibonacci_of(n):\n",
    "    \"\"\"This function computes Fibonacci numbers, \n",
    "    storing in a dictionary the previous calculations\"\"\"\n",
    "    if n in fibonacci_number:  # If already stored in memory\n",
    "        return fibonacci_number[n]\n",
    "    else: \n",
    "        fibonacci_number[n] = fibonacci_of(n - 1) + fibonacci_of(n - 2)  # Else, recursive case\n",
    "        return fibonacci_number[n]\n",
    "\n",
    "[fibonacci_of(n) for n in range(12)]"
   ]
  },
  {
   "cell_type": "markdown",
   "id": "3100ec0b-065c-4076-b493-0206243fb6a2",
   "metadata": {},
   "source": [
    "## Book information\n",
    "\n",
    "We have some information about two books:\n",
    "\n",
    "`(\n",
    "Title = 'Sapiens: A Brief History of Humankind', \n",
    "Author = 'Yuval Noah Harari',\n",
    "Year = 2011,\n",
    "Language = 'Hebrew',\n",
    "ISBN = '978-0062316097')`\n",
    "\n",
    "`(\n",
    "Title = 'Les Racines du ciel',\n",
    "Author = 'Romain Gary',\n",
    "Year = 1956,\n",
    "Publisher = 'Gallimard'\n",
    ")`\n",
    "\n",
    "As you can see, the information we have differs.\n",
    "\n",
    "- Write a function that prints for each key: 'The (key) is (value).'. The key should be in lower cases, except the ISBN number.\n",
    "- Call your function with our two books.\n",
    "\n",
    "For instance, the output for the second book should look like this:\n",
    "\n",
    "The title is Les Racines du ciel.\n",
    "The author is Romain Gary.\n",
    "The year is 1956.\n",
    "The publisher is Gallimard.\n",
    "\n",
    "Hint: Try to use arbitrary keyword argument `**kwarg` and the format string method"
   ]
  },
  {
   "cell_type": "code",
   "execution_count": 1,
   "id": "9ce5622f-109d-4a09-950b-c070bf985177",
   "metadata": {},
   "outputs": [
    {
     "name": "stdout",
     "output_type": "stream",
     "text": [
      "The title is Sapiens: A Brief History of Humankind.\n",
      "The author is Yuval Noah Harari.\n",
      "The year is 2011.\n",
      "The language is Hebrew.\n",
      "The ISBN is 978-0062316097.\n",
      "\n",
      "The title is Les Racines du ciel.\n",
      "The author is Romain Gary.\n",
      "The year is 1956.\n",
      "The publisher is Gallimard.\n",
      "\n"
     ]
    }
   ],
   "source": [
    "def book_info(**book):\n",
    "    for key, value in book.items():\n",
    "        if key == 'ISBN':\n",
    "            print(\"The {} is {}.\".format(key,value))\n",
    "        else:\n",
    "            print(\"The {} is {}.\".format(key.lower(),value))\n",
    "    else:\n",
    "        print('')\n",
    "\n",
    "book_info(Title = 'Sapiens: A Brief History of Humankind', \n",
    "          Author = 'Yuval Noah Harari',\n",
    "          Year = 2011,\n",
    "          Language = 'Hebrew',\n",
    "          ISBN = '978-0062316097')\n",
    "\n",
    "book_info(Title = 'Les Racines du ciel',\n",
    "          Author= 'Romain Gary',\n",
    "          Year = 1956,\n",
    "          Publisher = 'Gallimard')"
   ]
  },
  {
   "cell_type": "code",
   "execution_count": null,
   "id": "657a7fb5-0f1e-462c-bb1f-05ec35326c54",
   "metadata": {},
   "outputs": [],
   "source": []
  }
 ],
 "metadata": {
  "kernelspec": {
   "display_name": "Python 3",
   "language": "python",
   "name": "python3"
  },
  "language_info": {
   "codemirror_mode": {
    "name": "ipython",
    "version": 3
   },
   "file_extension": ".py",
   "mimetype": "text/x-python",
   "name": "python",
   "nbconvert_exporter": "python",
   "pygments_lexer": "ipython3",
   "version": "3.9.4"
  }
 },
 "nbformat": 4,
 "nbformat_minor": 5
}
