{
 "cells": [
  {
   "cell_type": "markdown",
   "id": "b2386e79-24ac-4c7a-a50f-8f3e635620d1",
   "metadata": {},
   "source": [
    "# Statistics and Data Science: Python Basics Exercises"
   ]
  },
  {
   "cell_type": "code",
   "execution_count": null,
   "id": "f750e827",
   "metadata": {},
   "outputs": [],
   "source": []
  },
  {
   "cell_type": "markdown",
   "id": "02f25f43-7918-4257-ae95-14051258788f",
   "metadata": {},
   "source": [
    "## Exercise 1: From strings to numbers\n",
    "\n",
    "- Create a variable `my_float` storing the `float` number of your choice.\n",
    "- Convert your `float` into a `string`, and store this `string` into a variable `my_str`\n",
    "- Convert back your `string` into a `float`, and store it into a variable `my_float_2`\n",
    "- Print `my_float`, `my_str`, and `my_float_2`, and the types of each variable."
   ]
  },
  {
   "cell_type": "code",
   "execution_count": 13,
   "id": "9bd4adc6-052a-40d7-a6ce-ed90595e940f",
   "metadata": {},
   "outputs": [
    {
     "name": "stdout",
     "output_type": "stream",
     "text": [
      "The orignal float value: \u001b[91m1.2345\u001b[0m, with correnspoing class type  \u001b[93m<class 'float'>\u001b[0m\n",
      "The string casted value: \u001b[91m1.2345\u001b[0m, with correnspoing class type \u001b[93m<class 'str'>\u001b[0m\n",
      "The float-string-float casted value: \u001b[91m1.2345\u001b[0m, with correnspoing class type \u001b[93m<class 'float'>\u001b[0m\n"
     ]
    }
   ],
   "source": [
    "class colors:\n",
    "  RED = '\\033[91m'\n",
    "  YELLOW = '\\033[93m'\n",
    "  END = '\\033[0m'\n",
    "\n",
    "my_float = 1.2345\n",
    "my_str = str(my_float)\n",
    "my_float2 = float(my_str)\n",
    "\n",
    "my_float_type = type(my_float)\n",
    "my_str_type = type(my_str)\n",
    "my_float2_type = type(my_float2)\n",
    "\n",
    "print(f'The orignal float value: {colors.RED}{my_float}{colors.END}, with correnspoing class type  {colors.YELLOW}{my_float_type}{colors.END}')\n",
    "print(f'The string casted value: {colors.RED}{my_str}{colors.END}, with correnspoing class type {colors.YELLOW}{my_str_type}{colors.END}')\n",
    "print(f'The float-string-float casted value: {colors.RED}{my_float2}{colors.END}, with correnspoing class type {colors.YELLOW}{my_float2_type}{colors.END}')\n"
   ]
  },
  {
   "cell_type": "markdown",
   "id": "fb4f6003-3339-4849-9606-cb0aba509010",
   "metadata": {},
   "source": [
    "## Exercise 2: Combining strings and numbers\n",
    "\n",
    "- Create a variable `last_name` with your last name and a variable `first_name` with your first name. \n",
    "- Create a variable `age` storing your age (as an integer).\n",
    "- Create a string variable `background` with your field of study during your bachelor, e.g., economics, environmental sciences, etc.\n",
    "- Print a string where you present yourself, using the variables you previously created. You should get something like: `'My name is Adam Smith. I am 199 years old. I studied moral philosophy'`"
   ]
  },
  {
   "cell_type": "code",
   "execution_count": 14,
   "id": "2c2bfbac-ec8b-4857-99a5-c27479a1af8d",
   "metadata": {},
   "outputs": [
    {
     "name": "stdout",
     "output_type": "stream",
     "text": [
      "My name is Per Christian Wessel. I am 29 years old. My backgorund is from Informatics and Sports\n"
     ]
    }
   ],
   "source": [
    "last_name = 'Wessel'\n",
    "first_mame = 'Per Christian'\n",
    "age = 29\n",
    "background = \"Informatics and Sports\"\n",
    "\n",
    "greeting = f'My name is {first_mame} {last_name}. I am {age} years old. My backgorund is from {background}'\n",
    "\n",
    "print(greeting)\n"
   ]
  },
  {
   "cell_type": "markdown",
   "id": "7ea52912-3086-47b1-89d1-2eaae2066e0f",
   "metadata": {},
   "source": [
    "## Exercice 3: Modular exponentiation\n",
    "\n",
    "[Modular exponentiation](https://en.wikipedia.org/wiki/Modular_exponentiation) is exponentiation performed over a modulus. It is useful in computer science, for example in cryptography algorithms such as [Diffie-Hellman Key Exchange](https://en.wikipedia.org/wiki/Diffie%E2%80%93Hellman_key_exchange) and [RSA public/private keys](https://en.wikipedia.org/wiki/RSA_(cryptosystem)).\n",
    "\n",
    "Let's take an example: $7^{2} \\; mod \\; 9 = 49 \\; mod \\; 9 = 4$ because $49 = 9*5 + 4$\n",
    "\n",
    "- Compute $5^{13} \\; mod \\; 13$ and $10^{13} \\; mod \\; 13$. What do you observe?\n",
    "- Compute $4^{6} \\; mod \\; 7$ and $15^{6} \\; mod \\; 7$. What do you observe?\n",
    "\n",
    "If you wish to understand the general case, check [Fermat's little theorem](https://en.wikipedia.org/wiki/Fermat%27s_little_theorem)"
   ]
  },
  {
   "cell_type": "code",
   "execution_count": 22,
   "id": "eadde119-8ac3-48d6-966c-fa506b16d7c3",
   "metadata": {},
   "outputs": [
    {
     "name": "stdout",
     "output_type": "stream",
     "text": [
      "5 10\n",
      "1 1\n"
     ]
    }
   ],
   "source": [
    "modulo_1 = 5**13%13\n",
    "modulo_2 = (10**13)%13\n",
    "# Let's say the we describe the modulo as: c = b^e mod m -> 0 ≤ c < m\n",
    "# I observe that our rest in both cases is smaller than the m which is 13 in this case.\n",
    "# Additionally we see that the modulo of the first value is 1/2 of the second.\n",
    "# And that the modulo is the same as the number.\n",
    "print(modulo_1, modulo_2)\n",
    "\n",
    "modulo_3 = (4**6)%7\n",
    "modulo_4 = (15**6)%7\n",
    "\n",
    "# I observe that e is one larger than m, which also is the \"rest\"\n",
    "print(modulo_3, modulo_4)"
   ]
  },
  {
   "cell_type": "markdown",
   "id": "77d74af3-be0b-468d-8b78-b5e9daa6ea90",
   "metadata": {},
   "source": [
    "## Exercise 4: Pro-environmental behaviors and environmental knowledge\n",
    "\n",
    "We have seen during the class that moral individuals cooperate in a social dilemma (e.g., perform a pro-environmental action) when their social benefit weighted by their degree of morality is greater than their individual cost of acting weighted by their degree of selfishness.\n",
    "\n",
    "However, there was a key assumption behind this result: we assumed that individuals had a perfect knowledge of environmental issues, of the cost of pollution, and thus of the benefits of not polluting. Obviously, in reality, many individuals are poorly informed about environmental issues. Actually, even informed individuals do not have a full understanding of the impacts of pollution. Think about climate change: the impacts are future, there are lots of uncertainties for example regarding catastrophic events (flood, drought), and many impacts are still unknown or not measured, for instance biodiversity loss.\n",
    "\n",
    "We can update our condition for cooperation based on the (environmental) knowledge of individual. Let's call $\\Omega \\in [0,1]$ the knowledge level, $\\kappa$ the degree of morality, $SB$ the social benefit, and $IC$ the individual cost of acting. An individual will cooperate if and only if:\n",
    "\n",
    "$\\kappa * \\Omega * SB \\geq (1-\\kappa) * IC$\n",
    "\n",
    "- Consider two individuals, Jordane and Florence, involved in a social dilemma where $IC=1$, $SB=3$. They both have the same degree of morality $\\kappa = 0.3$. However, Florence's environmental-knowledge level is $\\Omega_{F}=0.9$ and Jordane's environmental-knowledge level is $\\Omega_{J}=0.7$. Write a `if` statement that prints who is performing an environmental-friendly action. The output should be: `'Florence and Jordane perform an environmental-friendly action'`, `'Only Florence performs an environmental-friendly action'`, `'Only Jordane performs an environmental-friendly action'`, and `'Neither Florence nor Jordane perform an environmental-friendly action'`.  "
   ]
  },
  {
   "cell_type": "code",
   "execution_count": 24,
   "id": "46765d50-d29c-402b-a8a5-a4691327d121",
   "metadata": {},
   "outputs": [
    {
     "name": "stdout",
     "output_type": "stream",
     "text": [
      "Only Florence perform an environmental-friendly action\n"
     ]
    }
   ],
   "source": [
    "def social_dilemma (kappa, omega, SB, IC ):\n",
    "  if kappa*omega*SB >= (1-kappa)*IC:\n",
    "    return True\n",
    "  return False\n",
    "\n",
    "#Constants \n",
    "IC = 1\n",
    "SB = 3\n",
    "\n",
    "# Vars\n",
    "florence_kappa = 0.3\n",
    "jordane_kappa = 0.3\n",
    "florence_omega = 0.9\n",
    "jordane_omega = 0.7\n",
    "\n",
    "if social_dilemma(florence_kappa, florence_omega, SB, IC) and social_dilemma(jordane_kappa, jordane_omega, SB, IC):\n",
    "  print('Florence and Jordane perform an environmental-friendly action')\n",
    "elif social_dilemma(florence_kappa, florence_omega, SB, IC) and not social_dilemma(jordane_kappa, jordane_omega, SB, IC):\n",
    "  print('Only Florence perform an environmental-friendly action')\n",
    "elif not social_dilemma(florence_kappa, florence_omega, SB, IC) and social_dilemma(jordane_kappa, jordane_omega, SB, IC):\n",
    "  print('Only Jordane perform an environmental-friendly action')\n",
    "else:\n",
    "  print('Neither perform an environmental-friendly action')\n",
    "\n",
    "\n",
    "\n"
   ]
  },
  {
   "cell_type": "markdown",
   "id": "95c7aa4d-9cb4-407d-bdd1-d2c512279cbf",
   "metadata": {},
   "source": [
    "## Exercise 5: Pro-environmental behaviors and financial incentives\n",
    "\n",
    "Exercise 4 illustrated that the level of environmental knowledge plays a key role in individuals' decision-making. What can policy-makers do to promote pro-environmental behaviors? One option is to rely on financial instruments, such as fines, taxes, and subsidies. For example, in many countries, there exists subsidies to enhance energy efficiency in buildings (e.g., insulation, efficient boilers and electric appliances), renewable energy installation (e.g., photovoltaic, solar thermal, heat pump), and clean transport (e.g., electric and hybrid cars).\n",
    "\n",
    "We can update our condition for cooperation when we introduce a subsidy. Let's call $\\tau$ the subsidy, $\\Omega \\in [0,1]$ the knowledge level, $\\kappa$ the degree of morality, $SB$ the social benefit, and $IC$ the individual cost of acting. An individual will cooperate if and only if:\n",
    "\n",
    "$\\kappa * \\Omega * (SB+\\tau) \\geq (1-\\kappa) * (IC-\\tau)$\n",
    "\n",
    "- Consider the same social dilemma as before ($IC=1$, $SB=3$). Charles is an individual with degree of morality $\\kappa = 0.3$ and environmental-knowledge $\\Omega=0.5$. You are a policy-maker. Your objective is that Charles performs an pro-environmental action, but you hesitate between different level of subsidies $\\tau = (0, 0.25, 0.5, 0.75, 1)$. Write a `for` loop that prints whether of not each subsidy level is sufficient to trigger cooperation. For example, for a level of subsidy of 0.5, the output should either be `'A level of subsidy of 0.5 is not sufficient to promote pro-environmental action'` or `'A level of subsidy of 0.5 is sufficient to promote pro-environmental action'`. "
   ]
  },
  {
   "cell_type": "markdown",
   "id": "fd49dc93",
   "metadata": {},
   "source": [
    "## Exercise 1: From strings to numbers\n",
    "\n",
    "- Create a variable `my_float` storing the `float` number of your choice.\n",
    "- Convert your `float` into a `string`, and store this `string` into a variable `my_str`\n",
    "- Convert back your `string` into a `float`, and store it into a variable `my_float_2`\n",
    "- Print `my_float`, `my_str`, and `my_float_2`, and the types of each variable."
   ]
  },
  {
   "cell_type": "code",
   "execution_count": 25,
   "id": "2e01c500-f9bd-4423-b4f1-b772b9fe920a",
   "metadata": {},
   "outputs": [
    {
     "name": "stdout",
     "output_type": "stream",
     "text": [
      "A level of subsidy of 0.0 is not sufficient to promote pro-environmental action\n",
      "A level of subsidy of 0.25 is not sufficient to promote pro-environmental action\n",
      "A level of subsidy of 0.5 is sufficient to promote pro-environmental action\n",
      "A level of subsidy of 0.75 is sufficient to promote pro-environmental action\n",
      "A level of subsidy of 1.0 is sufficient to promote pro-environmental action\n"
     ]
    }
   ],
   "source": [
    "#Constants \n",
    "IC = 1\n",
    "SB = 3\n",
    "kappa = 0.3\n",
    "omega = 0.5\n",
    "\n",
    "def social_dilemma_2 (kappa, omega, SB, IC, tau ):\n",
    "  if kappa*omega*(SB+tau) >= (1-kappa)*(IC-tau):\n",
    "    return True\n",
    "  return False\n",
    "\n",
    "for i in range(5):\n",
    "  if social_dilemma_2(kappa, omega, SB, IC, i/4):\n",
    "    print(f'A level of subsidy of {i/4} is sufficient to promote pro-environmental action')\n",
    "  else:\n",
    "    print(f'A level of subsidy of {i/4} is not sufficient to promote pro-environmental action')"
   ]
  },
  {
   "cell_type": "markdown",
   "id": "564fc588-0afb-4175-9699-91e478ff29a2",
   "metadata": {},
   "source": [
    "## Exercise 6: Crowding out moral motives\n",
    "\n",
    "Exercise 5 illustrated how financial incentives can be effective in promoting cooperation. But (there is always a but), we made a crucial assumption to obtain our result. Can you guess what is this key assumption?\n",
    "\n",
    "We assumed that when we introduced a financial incentive, everything else remained the same. More precisely, we assumed that the implementation of financial incentives would not affect individuals' morality. In reality, many empirical studies show that the introduction of financial incentives can crowd out moral motives. One of the most famous study is from Gneezy and Rustichini (2000). In a field-study in day-care centers, they have shown that the introduction of a fine for parents arriving late to collect their children significantly increased the number of late-coming parents. Even worse, the effect was not reversible: after the fine was removed, no reduction occurred. Similar effects have been observed for environmental policy, suggesting that putting a price on Nature can lead individuals to leave the \"moral sphere\" towards the \"economic sphere\". In our model, this implies a decrease of the degree of morality. \n",
    "\n",
    "- Consider the same social dilemma as before ($IC=1$, $SB=3$), and our individual Charles with environmental-knowledge $\\Omega=0.5$. However, because we introduced a financial incentives, the degree of morality of Charles is now $\\kappa = 0.2$. Find the lowest subsidy $\\tau$ that would make Charles cooperate. \n",
    "\n",
    "Note: the condition for cooperation is still the same: \n",
    "$\\kappa * \\Omega * (SB+\\tau) \\geq (1-\\kappa) * (IC-\\tau)$"
   ]
  },
  {
   "cell_type": "code",
   "execution_count": 30,
   "id": "2870ac4e-1cd0-4e91-b5cb-2eb3d8bcc3c8",
   "metadata": {},
   "outputs": [
    {
     "name": "stdout",
     "output_type": "stream",
     "text": [
      "The lowest tau that would make Charles pro-environmental action is: 0.556\n"
     ]
    }
   ],
   "source": [
    "#Constants \n",
    "IC = 1\n",
    "SB = 3\n",
    "kappa = 0.2\n",
    "omega = 0.5\n",
    "\n",
    "for i in range(1000):\n",
    "  if social_dilemma_2(kappa, omega, SB, IC, i/1000):\n",
    "    print(f'The lowest tau that would make Charles pro-environmental action is: {i/1000}')\n",
    "    break"
   ]
  },
  {
   "cell_type": "markdown",
   "id": "0358a1b3-48b4-43ee-96ff-3f272b36a791",
   "metadata": {},
   "source": [
    "## Exercise 7: Threshold degree of morality\n",
    "\n",
    "Let's take a step back and look at our initial condition for cooperation, with perfect environmental knowledge and no financial incentives:\n",
    "\n",
    "$\\kappa * SB \\geq (1-\\kappa) * IC$\n",
    "\n",
    "It is possible to find analytically the minimum degree of morality allowing for cooperation. This threshold degree of morality is:\n",
    "\n",
    "$\\kappa_0 = \\frac{IC}{IC+SB}$\n",
    "\n",
    "- Define a function `'threshold_morality()'` taking as arguments the individual cost and social benefit and returning the threshold degree of morality.\n",
    "- Find the threshold degree of morality when ($IC=1$, $SB=4$), ($IC=2$, $SB=4$), and ($IC=3$, $SB=5$).Tips: instead of calling three times your function with different arguments, you could create two tuples, one with individual costs, the other with social benefits, and iterate over your two tuples using the function `zip()`."
   ]
  },
  {
   "cell_type": "code",
   "execution_count": 40,
   "id": "70dad6f8-41df-4690-8e67-d743d344bc80",
   "metadata": {},
   "outputs": [
    {
     "name": "stdout",
     "output_type": "stream",
     "text": [
      "The treshold morality with IC: 1 and SB of: 4 is 0.2\n",
      "The treshold morality with IC: 2 and SB of: 5 is 0.2857142857142857\n",
      "The treshold morality with IC: 3 and SB of: 6 is 0.3333333333333333\n"
     ]
    }
   ],
   "source": [
    "IC_touple = (1,2,3)\n",
    "SB_touple = (4,5,6)\n",
    "\n",
    "nested_tuple = tuple(zip(IC_touple, SB_touple))\n",
    "\n",
    "def treshold_morality(IC, SB):\n",
    "  return IC/(IC+SB)\n",
    "\n",
    "for i in range(len(nested_tuple)):\n",
    "  current_IC = nested_tuple[i][0]\n",
    "  current_SB = nested_tuple[i][1]\n",
    "  print(f'The treshold morality with IC: {current_IC} and SB of: {current_SB} is {treshold_morality(current_IC, current_SB)}')"
   ]
  }
 ],
 "metadata": {
  "kernelspec": {
   "display_name": "Python 3 (ipykernel)",
   "language": "python",
   "name": "python3"
  },
  "language_info": {
   "codemirror_mode": {
    "name": "ipython",
    "version": 3
   },
   "file_extension": ".py",
   "mimetype": "text/x-python",
   "name": "python",
   "nbconvert_exporter": "python",
   "pygments_lexer": "ipython3",
   "version": "3.9.13"
  }
 },
 "nbformat": 4,
 "nbformat_minor": 5
}
