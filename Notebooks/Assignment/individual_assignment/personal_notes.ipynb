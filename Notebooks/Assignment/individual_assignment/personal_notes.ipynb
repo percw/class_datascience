{
 "cells": [
  {
   "cell_type": "markdown",
   "metadata": {},
   "source": [
    "# Differen tips and tricks learned during assignment"
   ]
  },
  {
   "cell_type": "markdown",
   "metadata": {},
   "source": []
  },
  {
   "cell_type": "code",
   "execution_count": 1,
   "metadata": {},
   "outputs": [],
   "source": [
    "# To find the specific index of a column\n",
    "\n",
    "# index = polity_data_subset_serbia[polity_data_subset_serbia['year'] == '2006'].index.item()\n",
    "\n",
    "# Replacing strings and objects using lambda\n",
    "\n",
    "# df['2016'].apply(lambda x: x.replace('$', '').replace(',', '')).astype('float')\n",
    "# https://pbpython.com/pandas_dtypes.html\n",
    "\n"
   ]
  }
 ],
 "metadata": {
  "interpreter": {
   "hash": "2c967b75bd3da4530419091f2a82585a1448630d30358f0f328fd8248d7345ee"
  },
  "kernelspec": {
   "display_name": "Python 3.9.13 64-bit ('base': conda)",
   "language": "python",
   "name": "python3"
  },
  "language_info": {
   "codemirror_mode": {
    "name": "ipython",
    "version": 3
   },
   "file_extension": ".py",
   "mimetype": "text/x-python",
   "name": "python",
   "nbconvert_exporter": "python",
   "pygments_lexer": "ipython3",
   "version": "3.9.13"
  },
  "orig_nbformat": 4
 },
 "nbformat": 4,
 "nbformat_minor": 2
}
