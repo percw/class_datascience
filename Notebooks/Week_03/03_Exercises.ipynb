{
 "cells": [
  {
   "cell_type": "markdown",
   "id": "b2386e79-24ac-4c7a-a50f-8f3e635620d1",
   "metadata": {},
   "source": [
    "# Statistics and Data Science: Collecting, organizing, and clearning data"
   ]
  },
  {
   "cell_type": "markdown",
   "id": "02f25f43-7918-4257-ae95-14051258788f",
   "metadata": {},
   "source": [
    "## Exercise 1: Organizing data in dictionaries\n",
    "\n",
    "Here are the greenhouse gases (GHG) emissions of Switzerland, France, Germany, Italy, Austria in 2019 in thousands tonnes $CO_{2e}$: `(43981.6, 422251.6, 784842.1, 377672.5, 77111.4)`\n",
    "\n",
    "- Create a dictionary associating each country with its GHG emissions.\n",
    "- Extract the keys of your dictionary in a list.\n",
    "- Append your dictionary with the emissions of Spain: 276723.2 \n",
    "- Using a `for` loop, convert the GHG values in tonnes $CO_{2e}$ "
   ]
  },
  {
   "cell_type": "code",
   "execution_count": 1,
   "id": "07a1cb2c-db91-4d69-9c51-c0c65d808412",
   "metadata": {},
   "outputs": [
    {
     "name": "stdout",
     "output_type": "stream",
     "text": [
      "dict_keys(['Switzerland', 'France', 'Germany', 'Italy', 'Austria'])\n"
     ]
    }
   ],
   "source": [
    "ghg_emission_per_country = {\n",
    "  'Switzerland': 43981.1,\n",
    "  'France': 422251.6,\n",
    "  'Germany': 784842.1,\n",
    "  'Italy': 377672.5,\n",
    "  'Austria': 77111.4 \n",
    "}\n",
    "\n",
    "print(ghg_emission_per_country.keys())\n",
    "ghg_emission_per_country.update({'Spain': 276723.2})\n",
    "      # Can also do it by:\n",
    "      # ghg_emission_per_country['Spain']=276723.2\n",
    "\n",
    "for key, value in ghg_emission_per_country.items():\n",
    "  ghg_emission_per_country.update({key: value*1000})\n"
   ]
  },
  {
   "cell_type": "markdown",
   "id": "fb4f6003-3339-4849-9606-cb0aba509010",
   "metadata": {},
   "source": [
    "## Exercise 2: Data normalization\n",
    "\n",
    "A very common operation is to transform you data by normalization. Imagine you have a list of data points $x=$`[2,7,5,4,9,3]` and you want to perform a 0-1 normalization, i.e., convert the data between 0 and 1 with the following operation:\n",
    "\n",
    "$\\hat{x}_{i} = \\frac{x_{i}-min(x)}{max(x)-min(x)}$\n",
    "\n",
    "0-1 normalization is common (necessary) when you deal with several variables that have very different scales.\n",
    "\n",
    "- Create a new list that performs a 0-1 normalization on $x$. \n",
    "\n",
    "*Hint: You can use the `min()` and `max()` functions to obtain the minimum and maximum of a list* "
   ]
  },
  {
   "cell_type": "code",
   "execution_count": 2,
   "id": "f804fe57-d3c0-47f9-9a45-9b1d315dc2fc",
   "metadata": {},
   "outputs": [
    {
     "name": "stdout",
     "output_type": "stream",
     "text": [
      "{2: 0.0, 3: 0.14285714285714285, 4: 0.2857142857142857, 5: 0.42857142857142855, 7: 0.7142857142857143, 9: 1.0}\n"
     ]
    }
   ],
   "source": [
    "# Creating function to find x normalized\n",
    "# Finding max and min\n",
    "# Sorting the list\n",
    "# Looping through the list and placing in new dict\n",
    "\n",
    "def create_norm (x_list : list):\n",
    "  x_min = min(x_list)\n",
    "  x_max = max(x_list)\n",
    "  x_list.sort()\n",
    "  for x, value in enumerate(x_list):\n",
    "    x_hat = (value - x_min)/(x_max - x_min)\n",
    "    x_norm_dict[value]=x_hat\n",
    "\n",
    "#Create empty dict\n",
    "x_norm_dict = {}\n",
    "\n",
    "# Replicate x from the excercise\n",
    "x_list = [2,7,5,4,9,3]\n",
    "\n",
    "# Run function\n",
    "create_norm(x_list)\n",
    "print(x_norm_dict)\n"
   ]
  },
  {
   "cell_type": "markdown",
   "id": "7ea52912-3086-47b1-89d1-2eaae2066e0f",
   "metadata": {},
   "source": [
    "## Exercice 3: String methods and Green Domestic Product\n",
    "\n",
    "Here is the executive summary of a recent E4S publication, on the Green Domestic Product (GrDP) - Learn more on the [E4S website](https://e4s.center/en/resources/reports/green-domestic-product/)\n",
    "```python\n",
    "\"\"\"\n",
    "What is new?\n",
    "We propose a novel indicator, the Green Domestic Product (GrDP) to remedy some of the shortcomings of GDP. The GrGDP extends the scope of the GDP to integrate the depletion of natural, social, and human capital. Concretely, GrDP is defined as GDP minus the external costs associated with the production of goods and services, including the impacts of the emissions of greenhouse gases (GHG), air pollutants, and heavy metals.\n",
    "\n",
    "Why does it matter?\n",
    "Our decisions are influenced by what we know and by what we measure. Flawed measurements can lead to distorted decisions. By considering the economic, environmental, and social dimensions, GrGDP allows us to make more informed and sustainable policy decisions, and to move beyond the dichotomy between promoting economic growth and protecting the environment.\n",
    "\n",
    "What do we learn?\n",
    "In Switzerland, the gap between GrGDP and GDP is narrowing, the economy is growing while air pollution is decreasing. Still, external costs remain significant, about CHF 25.3 billion or 3.5% of GDP in 2019. Air pollutants and GHG both have important environmental and social impacts. However, while economic growth and air pollutant emissions are successfully decoupling, decarbonisation remains too slow. There are opportunities for the future: many decarbonisation levers have significant co-benefits by also reducing air pollutant emissions and thus enhancing GrDP growth.\n",
    "\"\"\"\n",
    "```\n",
    "\n",
    "- Count the number of times `'cost'` appears in the summary,\n",
    "- Create a new string that only contains lower cases,\n",
    "- Find the first occurrence of GrDP. Find the last one.\n",
    "- What a catastrophe, there are errors in the text! It seems like `'GrGDP'` sometimes appear instead of `'GrDP'`. Can you correct these mistakes? \n",
    "- Store a variable with the year `2019`, the country `'Switzerland'`, and the value of the external cost `25.3` billion. Using f-strings, print: `'In Switzerland, the external costs were about CHF 25.3 billion in 2019'`"
   ]
  },
  {
   "cell_type": "code",
   "execution_count": 3,
   "id": "0e0820a7-39f0-4ed5-83b6-8e389beaef20",
   "metadata": {},
   "outputs": [
    {
     "name": "stdout",
     "output_type": "stream",
     "text": [
      "Occurances of cost (case insensitive): 2\n",
      "Occurances of GrDP (case insensitive): 3\n",
      "In Switzerland, the external costs were about CHF 25.3 billion in 2019\n"
     ]
    }
   ],
   "source": [
    "grdp_summary = \"\"\"\n",
    "What is new?\n",
    "We propose a novel indicator, the Green Domestic Product (GrDP) to remedy some of the shortcomings of GDP. The GrGDP extends the scope of the GDP to integrate the depletion of natural, social, and human capital. Concretely, GrDP is defined as GDP minus the external costs associated with the production of goods and services, including the impacts of the emissions of greenhouse gases (GHG), air pollutants, and heavy metals.\n",
    "\n",
    "Why does it matter?\n",
    "Our decisions are influenced by what we know and by what we measure. Flawed measurements can lead to distorted decisions. By considering the economic, environmental, and social dimensions, GrGDP allows us to make more informed and sustainable policy decisions, and to move beyond the dichotomy between promoting economic growth and protecting the environment.\n",
    "\n",
    "What do we learn?\n",
    "In Switzerland, the gap between GrGDP and GDP is narrowing, the economy is growing while air pollution is decreasing. Still, external costs remain significant, about CHF 25.3 billion or 3.5% of GDP in 2019. Air pollutants and GHG both have important environmental and social impacts. However, while economic growth and air pollutant emissions are successfully decoupling, decarbonisation remains too slow. There are opportunities for the future: many decarbonisation levers have significant co-benefits by also reducing air pollutant emissions and thus enhancing GrDP growth.\n",
    "\"\"\"\n",
    "\n",
    "wordcount_cost = 0\n",
    "wordcount_cost = grdp_summary.lower().count('cost')\n",
    "print(f'Occurances of cost (case insensitive): {wordcount_cost}')\n",
    "\n",
    "grdp_summary_lowercase = grdp_summary.lower()\n",
    "print(f'Occurances of GrDP (case insensitive): {grdp_summary_lowercase.count(\"grgdp\")}')\n",
    "first_occurance_grdp = grdp_summary_lowercase.find('grgdp')\n",
    "last_occurance_grdp = grdp_summary_lowercase.rfind('grgdp')\n",
    "\n",
    "grdp_summary_fixed = grdp_summary_lowercase.replace('grgdp', 'grdp')\n",
    "grdp_summary_fixed = grdp_summary.replace('GrGDP', 'GrDP')\n",
    "\n",
    "year = 2019\n",
    "country = 'Switzerland'\n",
    "cost = 25.3\n",
    "\n",
    "print(f'In {country}, the external costs were about CHF {cost} billion in {year}')\n"
   ]
  },
  {
   "cell_type": "code",
   "execution_count": null,
   "id": "390af3fc",
   "metadata": {},
   "outputs": [],
   "source": []
  }
 ],
 "metadata": {
  "kernelspec": {
   "display_name": "Python 3",
   "language": "python",
   "name": "python3"
  },
  "language_info": {
   "codemirror_mode": {
    "name": "ipython",
    "version": 3
   },
   "file_extension": ".py",
   "mimetype": "text/x-python",
   "name": "python",
   "nbconvert_exporter": "python",
   "pygments_lexer": "ipython3",
   "version": "3.9.13"
  }
 },
 "nbformat": 4,
 "nbformat_minor": 5
}
