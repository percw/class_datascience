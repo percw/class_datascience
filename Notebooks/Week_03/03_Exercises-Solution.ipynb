{
 "cells": [
  {
   "cell_type": "markdown",
   "id": "b2386e79-24ac-4c7a-a50f-8f3e635620d1",
   "metadata": {},
   "source": [
    "# Statistics and Data Science: Collecting, organizing, and clearning data"
   ]
  },
  {
   "cell_type": "markdown",
   "id": "02f25f43-7918-4257-ae95-14051258788f",
   "metadata": {},
   "source": [
    "## Exercise 1: Organizing data in dictionaries\n",
    "\n",
    "Here are the greenhouse gases (GHG) emissions of Switzerland, France, Germany, Italy, Austria in 2019 in thousands tonnes $CO_{2e}$:  `(43981.6, 422251.6, 784842.1, 377672.5, 77111.4)`\n",
    "\n",
    "- Create a dictionary associating each country with its GHG emissions.\n",
    "- Extract the keys of your dictionary in a list.\n",
    "- Append your dictionary with the emissions of Spain: 276723.2 \n",
    "- Using a `for` loop, convert the GHG values in tonnes $CO_{2e}$ "
   ]
  },
  {
   "cell_type": "code",
   "execution_count": 14,
   "id": "30aa8097-cdf9-4c9f-b461-bd6ab88b278f",
   "metadata": {},
   "outputs": [
    {
     "name": "stdout",
     "output_type": "stream",
     "text": [
      "{'Switzerland': 43981.6, 'France': 422251.6, 'Germany': 784842.1, 'Italy': 377672.5, 'Austria': 77111.4}\n"
     ]
    }
   ],
   "source": [
    "countries = ('Switzerland', 'France', 'Germany', 'Italy', 'Austria')\n",
    "ghg = (43981.6, 422251.6, 784842.1, 377672.5, 77111.4)\n",
    "countries_ghg={}\n",
    "\n",
    "for c,e in zip(countries,ghg):\n",
    "    countries_ghg[c] = e\n",
    "    \n",
    "print(countries_ghg)"
   ]
  },
  {
   "cell_type": "code",
   "execution_count": 15,
   "id": "a350bfcb-9b28-49d0-8e6d-a6bfc6446db1",
   "metadata": {},
   "outputs": [
    {
     "data": {
      "text/plain": [
       "['Switzerland', 'France', 'Germany', 'Italy', 'Austria']"
      ]
     },
     "execution_count": 15,
     "metadata": {},
     "output_type": "execute_result"
    }
   ],
   "source": [
    "list(countries_ghg)"
   ]
  },
  {
   "cell_type": "code",
   "execution_count": 16,
   "id": "15f5d0ad-f8c3-401a-8e7f-4e746b426e86",
   "metadata": {},
   "outputs": [],
   "source": [
    "countries_ghg['Spain']=276723.2"
   ]
  },
  {
   "cell_type": "code",
   "execution_count": 17,
   "id": "6dfafed6-51a2-4e72-89bf-45b077fd1efe",
   "metadata": {},
   "outputs": [
    {
     "name": "stdout",
     "output_type": "stream",
     "text": [
      "{'Switzerland': 43981600.0, 'France': 422251600.0, 'Germany': 784842100.0, 'Italy': 377672500.0, 'Austria': 77111400.0, 'Spain': 276723200.0}\n"
     ]
    }
   ],
   "source": [
    "for key, _ in countries_ghg.items():\n",
    "    countries_ghg[key] *= 1000\n",
    "\n",
    "print(countries_ghg)"
   ]
  },
  {
   "cell_type": "markdown",
   "id": "fb4f6003-3339-4849-9606-cb0aba509010",
   "metadata": {},
   "source": [
    "## Exercise 2: Data normalization\n",
    "\n",
    "A very common operation is to transform you data by normalization. Imagine you have a list of data points $x=$`[2,7,5,4,9,3]` and you want to perform a 0-1 normalization, i.e., convert the data between 0 and 1 with the following operation:\n",
    "\n",
    "$\\hat{x}_{i} = \\frac{x_{i}-min(x)}{max(x)-min(x)}$\n",
    "\n",
    "0-1 normalization is common (necessary) when you deal with several variables that have very different scales.\n",
    "\n",
    "- Create a new list that performs a 0-1 normalization on $x$. \n",
    "\n",
    "*Hint: You can use the `min()` and `max()` functions to obtain the minimum and maximum of a list* "
   ]
  },
  {
   "cell_type": "code",
   "execution_count": 2,
   "id": "9274be3a-f50e-48fa-8d8e-f447622154b6",
   "metadata": {},
   "outputs": [
    {
     "name": "stdout",
     "output_type": "stream",
     "text": [
      "[0.0, 0.7142857142857143, 0.42857142857142855, 0.2857142857142857, 1.0, 0.14285714285714285]\n"
     ]
    }
   ],
   "source": [
    "x = [2,7,5,4,9,3]\n",
    "x_min = min(x)\n",
    "x_range = max(x)-x_min\n",
    "\n",
    "x_new = [(i-x_min)/(x_range) for i in x]\n",
    "print(x_new)"
   ]
  },
  {
   "cell_type": "markdown",
   "id": "7ea52912-3086-47b1-89d1-2eaae2066e0f",
   "metadata": {},
   "source": [
    "## Exercice 3: String methods and Green Domestic Product\n",
    "\n",
    "Here is the executive summary of a recent E4S publication, on the Green Domestic Product (GrDP) - Learn more on the [E4S website](https://e4s.center/en/resources/reports/green-domestic-product/)\n",
    "```python\n",
    "\"\"\"\n",
    "What is new?\n",
    "We propose a novel indicator, the Green Domestic Product (GrDP) to remedy some of the shortcomings of GDP. The GrGDP extends the scope of the GDP to integrate the depletion of natural, social, and human capital. Concretely, GrDP is defined as GDP minus the external costs associated with the production of goods and services, including the impacts of the emissions of greenhouse gases (GHG), air pollutants, and heavy metals.\n",
    "\n",
    "Why does it matter?\n",
    "Our decisions are influenced by what we know and by what we measure. Flawed measurements can lead to distorted decisions. By considering the economic, environmental, and social dimensions, GrGDP allows us to make more informed and sustainable policy decisions, and to move beyond the dichotomy between promoting economic growth and protecting the environment.\n",
    "\n",
    "What do we learn?\n",
    "In Switzerland, the gap between GrGDP and GDP is narrowing, the economy is growing while air pollution is decreasing. Still, external costs remain significant, about CHF 25.3 billion or 3.5% of GDP in 2019. Air pollutants and GHG both have important environmental and social impacts. However, while economic growth and air pollutant emissions are successfully decoupling, decarbonisation remains too slow. There are opportunities for the future: many decarbonisation levers have significant co-benefits by also reducing air pollutant emissions and thus enhancing GrDP growth.\n",
    "\"\"\"\n",
    "```\n",
    "\n",
    "- Count the number of times `'cost'` appears in the summary,\n",
    "- Create a new string that only contains lower cases,\n",
    "- Find the first occurrence of GrDP. Find the last one.\n",
    "- What a catastrophe, there are errors in the text! It seems like `'GrGDP'` sometimes appear instead of `'GrDP'`. Can you correct these mistakes? \n",
    "- Store a variable with the year `2019`, the country `'Switzerland'`, and the value of the external cost `25.3` billion. Using f-strings, print: `'In Switzerland, the external costs were about CHF 25.3 billion in 2019'`"
   ]
  },
  {
   "cell_type": "code",
   "execution_count": 3,
   "id": "0e0820a7-39f0-4ed5-83b6-8e389beaef20",
   "metadata": {},
   "outputs": [],
   "source": [
    "grdp_summary = \"\"\"\n",
    "What is new?\n",
    "We propose a novel indicator, the Green Domestic Product (GrDP) to remedy some of the shortcomings of GDP. The GrGDP extends the scope of the GDP to integrate the depletion of natural, social, and human capital. Concretely, GrDP is defined as GDP minus the external costs associated with the production of goods and services, including the impacts of the emissions of greenhouse gases (GHG), air pollutants, and heavy metals.\n",
    "\n",
    "Why does it matter?\n",
    "Our decisions are influenced by what we know and by what we measure. Flawed measurements can lead to distorted decisions. By considering the economic, environmental, and social dimensions, GrGDP allows us to make more informed and sustainable policy decisions, and to move beyond the dichotomy between promoting economic growth and protecting the environment.\n",
    "\n",
    "What do we learn?\n",
    "In Switzerland, the gap between GrGDP and GDP is narrowing, the economy is growing while air pollution is decreasing. Still, external costs remain significant, about CHF 25.3 billion or 3.5% of GDP in 2019. Air pollutants and GHG both have important environmental and social impacts. However, while economic growth and air pollutant emissions are successfully decoupling, decarbonisation remains too slow. There are opportunities for the future: many decarbonisation levers have significant co-benefits by also reducing air pollutant emissions and thus enhancing GrDP growth.\n",
    "\"\"\""
   ]
  },
  {
   "cell_type": "code",
   "execution_count": 5,
   "id": "7657c2b3-4ae6-4b10-bd97-bb6d1c9e9b44",
   "metadata": {},
   "outputs": [
    {
     "data": {
      "text/plain": [
       "2"
      ]
     },
     "execution_count": 5,
     "metadata": {},
     "output_type": "execute_result"
    }
   ],
   "source": [
    "grdp_summary.count('cost')"
   ]
  },
  {
   "cell_type": "code",
   "execution_count": 8,
   "id": "424e9fd1-be36-418c-8821-e70b81bf3608",
   "metadata": {},
   "outputs": [
    {
     "name": "stdout",
     "output_type": "stream",
     "text": [
      "\n",
      "what is new?\n",
      "we propose a novel indicator, the green domestic product (grdp) to remedy some of the shortcomings of gdp. the grgdp extends the scope of the gdp to integrate the depletion of natural, social, and human capital. concretely, grdp is defined as gdp minus the external costs associated with the production of goods and services, including the impacts of the emissions of greenhouse gases (ghg), air pollutants, and heavy metals.\n",
      "\n",
      "why does it matter?\n",
      "our decisions are influenced by what we know and by what we measure. flawed measurements can lead to distorted decisions. by considering the economic, environmental, and social dimensions, grgdp allows us to make more informed and sustainable policy decisions, and to move beyond the dichotomy between promoting economic growth and protecting the environment.\n",
      "\n",
      "what do we learn?\n",
      "in switzerland, the gap between grgdp and gdp is narrowing, the economy is growing while air pollution is decreasing. still, external costs remain significant, about chf 25.3 billion or 3.5% of gdp in 2019. air pollutants and ghg both have important environmental and social impacts. however, while economic growth and air pollutant emissions are successfully decoupling, decarbonisation remains too slow. there are opportunities for the future: many decarbonisation levers have significant co-benefits by also reducing air pollutant emissions and thus enhancing grdp growth.\n",
      "\n"
     ]
    }
   ],
   "source": [
    "grdp_summary_l = grdp_summary.lower()\n",
    "print(grdp_summary_l)"
   ]
  },
  {
   "cell_type": "code",
   "execution_count": 10,
   "id": "4c81eb0f-7af6-4d03-b193-09359b661c77",
   "metadata": {},
   "outputs": [
    {
     "name": "stdout",
     "output_type": "stream",
     "text": [
      "72\n",
      "1403\n"
     ]
    }
   ],
   "source": [
    "print(grdp_summary.find('GrDP'))\n",
    "print(grdp_summary.rfind('GrDP'))"
   ]
  },
  {
   "cell_type": "code",
   "execution_count": 11,
   "id": "65a786e5-9842-40d0-821c-98e03d370c3a",
   "metadata": {},
   "outputs": [
    {
     "name": "stdout",
     "output_type": "stream",
     "text": [
      "\n",
      "What is new?\n",
      "We propose a novel indicator, the Green Domestic Product (GrDP) to remedy some of the shortcomings of GDP. The GrDP extends the scope of the GDP to integrate the depletion of natural, social, and human capital. Concretely, GrDP is defined as GDP minus the external costs associated with the production of goods and services, including the impacts of the emissions of greenhouse gases (GHG), air pollutants, and heavy metals.\n",
      "\n",
      "Why does it matter?\n",
      "Our decisions are influenced by what we know and by what we measure. Flawed measurements can lead to distorted decisions. By considering the economic, environmental, and social dimensions, GrDP allows us to make more informed and sustainable policy decisions, and to move beyond the dichotomy between promoting economic growth and protecting the environment.\n",
      "\n",
      "What do we learn?\n",
      "In Switzerland, the gap between GrDP and GDP is narrowing, the economy is growing while air pollution is decreasing. Still, external costs remain significant, about CHF 25.3 billion or 3.5% of GDP in 2019. Air pollutants and GHG both have important environmental and social impacts. However, while economic growth and air pollutant emissions are successfully decoupling, decarbonisation remains too slow. There are opportunities for the future: many decarbonisation levers have significant co-benefits by also reducing air pollutant emissions and thus enhancing GrDP growth.\n",
      "\n"
     ]
    }
   ],
   "source": [
    "grdp_summary_corrected = grdp_summary.replace('GrGDP', 'GrDP')\n",
    "print(grdp_summary_corrected)"
   ]
  },
  {
   "cell_type": "code",
   "execution_count": 13,
   "id": "b93b0299-9c43-4534-93cc-d180e638ff32",
   "metadata": {},
   "outputs": [
    {
     "name": "stdout",
     "output_type": "stream",
     "text": [
      "In Switzerland, the external costs were about CHF 25.3 billion in 2019.\n"
     ]
    }
   ],
   "source": [
    "year = 2019\n",
    "country = 'Switzerland'\n",
    "cost = 25.3\n",
    "\n",
    "print(f'In {country}, the external costs were about CHF {cost:0.1f} billion in {year}.')"
   ]
  }
 ],
 "metadata": {
  "kernelspec": {
   "display_name": "Python 3 (ipykernel)",
   "language": "python",
   "name": "python3"
  },
  "language_info": {
   "codemirror_mode": {
    "name": "ipython",
    "version": 3
   },
   "file_extension": ".py",
   "mimetype": "text/x-python",
   "name": "python",
   "nbconvert_exporter": "python",
   "pygments_lexer": "ipython3",
   "version": "3.9.13"
  }
 },
 "nbformat": 4,
 "nbformat_minor": 5
}
